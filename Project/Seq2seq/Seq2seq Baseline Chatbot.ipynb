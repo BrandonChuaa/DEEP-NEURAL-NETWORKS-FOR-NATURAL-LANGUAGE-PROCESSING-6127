{
 "cells": [
  {
   "cell_type": "markdown",
   "metadata": {
    "id": "CM-mKvqOfmnl"
   },
   "source": [
    "# Mount Google Drive"
   ]
  },
  {
   "cell_type": "markdown",
   "metadata": {
    "id": "z9IJyVMafmn1"
   },
   "source": [
    "First, we mount our Google Drive so that we may integrate Google Colab seamlessly in the generation of codes."
   ]
  },
  {
   "cell_type": "code",
   "execution_count": 1,
   "metadata": {
    "colab": {
     "base_uri": "https://localhost:8080/"
    },
    "executionInfo": {
     "elapsed": 2687,
     "status": "ok",
     "timestamp": 1619623559085,
     "user": {
      "displayName": "WaiHong Lam",
      "photoUrl": "https://lh3.googleusercontent.com/a-/AOh14GhRHVS18lGCQoaDl3cg5UL_tpu3sK2TZGqSqV3YZw=s64",
      "userId": "13254829462000022719"
     },
     "user_tz": -480
    },
    "id": "FDH0pWDgTU1q",
    "outputId": "6eee9038-3105-4725-de61-1a01ab737117"
   },
   "outputs": [
    {
     "name": "stdout",
     "output_type": "stream",
     "text": [
      "Drive already mounted at /content/gdrive; to attempt to forcibly remount, call drive.mount(\"/content/gdrive\", force_remount=True).\n"
     ]
    }
   ],
   "source": [
    "from google.colab import drive\n",
    "drive.mount('/content/gdrive')"
   ]
  },
  {
   "cell_type": "code",
   "execution_count": 2,
   "metadata": {
    "executionInfo": {
     "elapsed": 1825,
     "status": "ok",
     "timestamp": 1619623567383,
     "user": {
      "displayName": "WaiHong Lam",
      "photoUrl": "https://lh3.googleusercontent.com/a-/AOh14GhRHVS18lGCQoaDl3cg5UL_tpu3sK2TZGqSqV3YZw=s64",
      "userId": "13254829462000022719"
     },
     "user_tz": -480
    },
    "id": "gXpYrdPSTWix"
   },
   "outputs": [],
   "source": [
    "import os\n",
    "os.chdir('/content/gdrive/MyDrive/Colab Notebooks/AI6127/Project Chatbot')"
   ]
  },
  {
   "cell_type": "markdown",
   "metadata": {
    "id": "9_Nmddfcfmn9"
   },
   "source": [
    "# Import Libraries"
   ]
  },
  {
   "cell_type": "code",
   "execution_count": 3,
   "metadata": {
    "executionInfo": {
     "elapsed": 3222,
     "status": "ok",
     "timestamp": 1619623596901,
     "user": {
      "displayName": "WaiHong Lam",
      "photoUrl": "https://lh3.googleusercontent.com/a-/AOh14GhRHVS18lGCQoaDl3cg5UL_tpu3sK2TZGqSqV3YZw=s64",
      "userId": "13254829462000022719"
     },
     "user_tz": -480
    },
    "id": "iTXL4OLKTNkw"
   },
   "outputs": [],
   "source": [
    "import tensorflow as tf"
   ]
  },
  {
   "cell_type": "code",
   "execution_count": 4,
   "metadata": {
    "executionInfo": {
     "elapsed": 1951,
     "status": "ok",
     "timestamp": 1619623596909,
     "user": {
      "displayName": "WaiHong Lam",
      "photoUrl": "https://lh3.googleusercontent.com/a-/AOh14GhRHVS18lGCQoaDl3cg5UL_tpu3sK2TZGqSqV3YZw=s64",
      "userId": "13254829462000022719"
     },
     "user_tz": -480
    },
    "id": "jHBOap2oTNky"
   },
   "outputs": [],
   "source": [
    "from tensorflow import keras"
   ]
  },
  {
   "cell_type": "code",
   "execution_count": 5,
   "metadata": {
    "executionInfo": {
     "elapsed": 993,
     "status": "ok",
     "timestamp": 1619623597387,
     "user": {
      "displayName": "WaiHong Lam",
      "photoUrl": "https://lh3.googleusercontent.com/a-/AOh14GhRHVS18lGCQoaDl3cg5UL_tpu3sK2TZGqSqV3YZw=s64",
      "userId": "13254829462000022719"
     },
     "user_tz": -480
    },
    "id": "evEqB6mHTNk0"
   },
   "outputs": [],
   "source": [
    "from tensorflow.keras.layers import Input,Dense,LSTM\n",
    "from tensorflow.keras.models import Model"
   ]
  },
  {
   "cell_type": "code",
   "execution_count": 6,
   "metadata": {
    "executionInfo": {
     "elapsed": 1400,
     "status": "ok",
     "timestamp": 1619623600932,
     "user": {
      "displayName": "WaiHong Lam",
      "photoUrl": "https://lh3.googleusercontent.com/a-/AOh14GhRHVS18lGCQoaDl3cg5UL_tpu3sK2TZGqSqV3YZw=s64",
      "userId": "13254829462000022719"
     },
     "user_tz": -480
    },
    "id": "k0ly_RUtTNk2"
   },
   "outputs": [],
   "source": [
    "import re\n",
    "import random\n",
    "import numpy as np\n",
    "import json\n",
    "import pandas as pd"
   ]
  },
  {
   "cell_type": "code",
   "execution_count": 7,
   "metadata": {
    "colab": {
     "base_uri": "https://localhost:8080/"
    },
    "executionInfo": {
     "elapsed": 2192,
     "status": "ok",
     "timestamp": 1619623602806,
     "user": {
      "displayName": "WaiHong Lam",
      "photoUrl": "https://lh3.googleusercontent.com/a-/AOh14GhRHVS18lGCQoaDl3cg5UL_tpu3sK2TZGqSqV3YZw=s64",
      "userId": "13254829462000022719"
     },
     "user_tz": -480
    },
    "id": "9110VnYvfmoB",
    "outputId": "b80d16d2-03d8-4060-9cfc-9a3b4bd8141c"
   },
   "outputs": [
    {
     "name": "stdout",
     "output_type": "stream",
     "text": [
      "[nltk_data] Downloading package wordnet to /root/nltk_data...\n",
      "[nltk_data]   Package wordnet is already up-to-date!\n"
     ]
    }
   ],
   "source": [
    "import nltk\n",
    "nltk.download('wordnet')\n",
    "from nltk.stem import LancasterStemmer, PorterStemmer, WordNetLemmatizer"
   ]
  },
  {
   "cell_type": "markdown",
   "metadata": {
    "id": "R105JX3-fmoC"
   },
   "source": [
    "## 1. EXTRACTING DATA FROM THE JSON FILE\n",
    "\n",
    "The SMSes are nested pretty deeply in the original json file. Next couple of cells are aimed at extracting the data into a dataframe format."
   ]
  },
  {
   "cell_type": "code",
   "execution_count": 8,
   "metadata": {
    "executionInfo": {
     "elapsed": 3107,
     "status": "ok",
     "timestamp": 1619623605807,
     "user": {
      "displayName": "WaiHong Lam",
      "photoUrl": "https://lh3.googleusercontent.com/a-/AOh14GhRHVS18lGCQoaDl3cg5UL_tpu3sK2TZGqSqV3YZw=s64",
      "userId": "13254829462000022719"
     },
     "user_tz": -480
    },
    "id": "6ihJeatBTNk5"
   },
   "outputs": [],
   "source": [
    "# load the dataset\n",
    "with open(\"./SMS Messages/smsCorpus_en_2015.03.09_all.json\") as f:\n",
    "    data = json.load(f)"
   ]
  },
  {
   "cell_type": "code",
   "execution_count": 9,
   "metadata": {
    "executionInfo": {
     "elapsed": 819,
     "status": "ok",
     "timestamp": 1619623607420,
     "user": {
      "displayName": "WaiHong Lam",
      "photoUrl": "https://lh3.googleusercontent.com/a-/AOh14GhRHVS18lGCQoaDl3cg5UL_tpu3sK2TZGqSqV3YZw=s64",
      "userId": "13254829462000022719"
     },
     "user_tz": -480
    },
    "id": "hsGO9gnLTNk7"
   },
   "outputs": [],
   "source": [
    "# get the messages details only of the dataset (smsCorpus)\n",
    "listofMsg = data['smsCorpus']['message']"
   ]
  },
  {
   "cell_type": "code",
   "execution_count": 10,
   "metadata": {
    "executionInfo": {
     "elapsed": 883,
     "status": "ok",
     "timestamp": 1619623610453,
     "user": {
      "displayName": "WaiHong Lam",
      "photoUrl": "https://lh3.googleusercontent.com/a-/AOh14GhRHVS18lGCQoaDl3cg5UL_tpu3sK2TZGqSqV3YZw=s64",
      "userId": "13254829462000022719"
     },
     "user_tz": -480
    },
    "id": "ub3uO48bTNk8"
   },
   "outputs": [],
   "source": [
    "messages = [i['text']['$'] for i in listofMsg]\n",
    "countries = [i['source']['userProfile']['country']['$'] for i in listofMsg]"
   ]
  },
  {
   "cell_type": "code",
   "execution_count": 11,
   "metadata": {
    "executionInfo": {
     "elapsed": 748,
     "status": "ok",
     "timestamp": 1619623614983,
     "user": {
      "displayName": "WaiHong Lam",
      "photoUrl": "https://lh3.googleusercontent.com/a-/AOh14GhRHVS18lGCQoaDl3cg5UL_tpu3sK2TZGqSqV3YZw=s64",
      "userId": "13254829462000022719"
     },
     "user_tz": -480
    },
    "id": "GRXPalZcfmoI"
   },
   "outputs": [],
   "source": [
    "sms = pd.DataFrame({'country':countries,'sms_text':messages})\n",
    "sms['sms_text'] = sms['sms_text'].astype('str')"
   ]
  },
  {
   "cell_type": "code",
   "execution_count": 12,
   "metadata": {
    "executionInfo": {
     "elapsed": 1327,
     "status": "ok",
     "timestamp": 1619623617160,
     "user": {
      "displayName": "WaiHong Lam",
      "photoUrl": "https://lh3.googleusercontent.com/a-/AOh14GhRHVS18lGCQoaDl3cg5UL_tpu3sK2TZGqSqV3YZw=s64",
      "userId": "13254829462000022719"
     },
     "user_tz": -480
    },
    "id": "BGheVP2UfmoJ"
   },
   "outputs": [],
   "source": [
    "# simple function to clean the text and remove non-ascii characters\n",
    "def clean_text(text):    \n",
    "    text = text.encode(\"ascii\", errors=\"ignore\").decode(\"ascii\") #remove non-ascii, Chinese characters\n",
    "    text = re.sub(r\"http\\S+\", \"\", text)\n",
    "    text = re.sub(r\"\\n\", \" \", text)\n",
    "    text = re.sub(r\"\\n\\n\", \" \", text)\n",
    "    text = re.sub(r\"\\W\", \" \", text)\n",
    "    text = re.sub(r\"^\\d+\\s|\\s\\d+\\s|\\s\\d+$\", \" \", text)\n",
    "    text = text.strip(\" \")\n",
    "    text = re.sub(r\"[^\\w\\s]\", \"\", text)\n",
    "    text = re.sub(' +',' ', text).strip() # get rid of multiple spaces and replace with a single space    \n",
    "    return text"
   ]
  },
  {
   "cell_type": "code",
   "execution_count": 13,
   "metadata": {
    "executionInfo": {
     "elapsed": 1793,
     "status": "ok",
     "timestamp": 1619623625745,
     "user": {
      "displayName": "WaiHong Lam",
      "photoUrl": "https://lh3.googleusercontent.com/a-/AOh14GhRHVS18lGCQoaDl3cg5UL_tpu3sK2TZGqSqV3YZw=s64",
      "userId": "13254829462000022719"
     },
     "user_tz": -480
    },
    "id": "J_i7K4ZgfmoK"
   },
   "outputs": [],
   "source": [
    "sms[\"clean_text\"] = sms['sms_text'].map(lambda text: clean_text(text))\n",
    "\n",
    "# Comment out the stemming or lemmatization that you do not want to use\n",
    "#sms[\"clean_text\"] = sms[\"clean_text\"].map(lambda text: PorterStemmer().stem(text))\n",
    "# sms[\"clean_text\"] = sms[\"clean_text\"].map(lambda text: LancasterStemmer().stem(text))\n",
    "# sms[\"clean_text\"] = sms[\"clean_text\"].map(lambda text: WordNetLemmatizer().lemmatize(text))\n",
    "\n",
    "sms = sms.dropna(subset=['clean_text'])"
   ]
  },
  {
   "cell_type": "code",
   "execution_count": 14,
   "metadata": {
    "executionInfo": {
     "elapsed": 1657,
     "status": "ok",
     "timestamp": 1619623627418,
     "user": {
      "displayName": "WaiHong Lam",
      "photoUrl": "https://lh3.googleusercontent.com/a-/AOh14GhRHVS18lGCQoaDl3cg5UL_tpu3sK2TZGqSqV3YZw=s64",
      "userId": "13254829462000022719"
     },
     "user_tz": -480
    },
    "id": "3W1QnehIfmoL"
   },
   "outputs": [],
   "source": [
    "#adding a word count col for filtering\n",
    "\n",
    "sms['word_count'] = sms['clean_text'].str.count(' ') + 1"
   ]
  },
  {
   "cell_type": "markdown",
   "metadata": {
    "id": "R5ZcCqUFfmoL"
   },
   "source": [
    "## 1.1 CUTTING OUT THE NOISE\n",
    "\n",
    "A bigger dataset isn't necessarily a better one if it is merely noisy. Prior to creating the training and validation sets, I filtered out SMSes of 3 words or less (too few words) and kept only those sent by users in Singapore."
   ]
  },
  {
   "cell_type": "code",
   "execution_count": 15,
   "metadata": {
    "executionInfo": {
     "elapsed": 750,
     "status": "ok",
     "timestamp": 1619623629823,
     "user": {
      "displayName": "WaiHong Lam",
      "photoUrl": "https://lh3.googleusercontent.com/a-/AOh14GhRHVS18lGCQoaDl3cg5UL_tpu3sK2TZGqSqV3YZw=s64",
      "userId": "13254829462000022719"
     },
     "user_tz": -480
    },
    "id": "5rodm7KdfmoM"
   },
   "outputs": [],
   "source": [
    "crit1 = sms['word_count'] > 3\n",
    "crit2 = sms['country'] == 'SG'\n",
    "crit3 = sms['country'] == 'Singapore'\n",
    "\n",
    "sms = sms[crit1 & (crit2 | crit3)].copy().reset_index()"
   ]
  },
  {
   "cell_type": "code",
   "execution_count": 16,
   "metadata": {
    "colab": {
     "base_uri": "https://localhost:8080/",
     "height": 143
    },
    "executionInfo": {
     "elapsed": 771,
     "status": "ok",
     "timestamp": 1619623639917,
     "user": {
      "displayName": "WaiHong Lam",
      "photoUrl": "https://lh3.googleusercontent.com/a-/AOh14GhRHVS18lGCQoaDl3cg5UL_tpu3sK2TZGqSqV3YZw=s64",
      "userId": "13254829462000022719"
     },
     "user_tz": -480
    },
    "id": "OVSi_6zffmoM",
    "outputId": "42227c09-76cb-4360-a60c-9b7ce3aad89e",
    "scrolled": true
   },
   "outputs": [
    {
     "data": {
      "text/html": [
       "<div>\n",
       "<style scoped>\n",
       "    .dataframe tbody tr th:only-of-type {\n",
       "        vertical-align: middle;\n",
       "    }\n",
       "\n",
       "    .dataframe tbody tr th {\n",
       "        vertical-align: top;\n",
       "    }\n",
       "\n",
       "    .dataframe thead th {\n",
       "        text-align: right;\n",
       "    }\n",
       "</style>\n",
       "<table border=\"1\" class=\"dataframe\">\n",
       "  <thead>\n",
       "    <tr style=\"text-align: right;\">\n",
       "      <th></th>\n",
       "      <th>index</th>\n",
       "      <th>country</th>\n",
       "      <th>sms_text</th>\n",
       "      <th>clean_text</th>\n",
       "      <th>word_count</th>\n",
       "    </tr>\n",
       "  </thead>\n",
       "  <tbody>\n",
       "    <tr>\n",
       "      <th>24693</th>\n",
       "      <td>45850</td>\n",
       "      <td>Singapore</td>\n",
       "      <td>WHAT WHERE IS IT</td>\n",
       "      <td>WHAT WHERE IS IT</td>\n",
       "      <td>4</td>\n",
       "    </tr>\n",
       "    <tr>\n",
       "      <th>26427</th>\n",
       "      <td>47867</td>\n",
       "      <td>Singapore</td>\n",
       "      <td>Yup I told him le! he says it's in hostel!</td>\n",
       "      <td>Yup I told him le he says it s in hostel</td>\n",
       "      <td>11</td>\n",
       "    </tr>\n",
       "    <tr>\n",
       "      <th>9885</th>\n",
       "      <td>24999</td>\n",
       "      <td>Singapore</td>\n",
       "      <td>Hello, just a reminder. Ulu pandan needs more ...</td>\n",
       "      <td>Hello just a reminder Ulu pandan needs more cl...</td>\n",
       "      <td>20</td>\n",
       "    </tr>\n",
       "  </tbody>\n",
       "</table>\n",
       "</div>"
      ],
      "text/plain": [
       "       index  ... word_count\n",
       "24693  45850  ...          4\n",
       "26427  47867  ...         11\n",
       "9885   24999  ...         20\n",
       "\n",
       "[3 rows x 5 columns]"
      ]
     },
     "execution_count": 16,
     "metadata": {
      "tags": []
     },
     "output_type": "execute_result"
    }
   ],
   "source": [
    "sms.sample(3)"
   ]
  },
  {
   "cell_type": "code",
   "execution_count": 17,
   "metadata": {
    "executionInfo": {
     "elapsed": 847,
     "status": "ok",
     "timestamp": 1619623645246,
     "user": {
      "displayName": "WaiHong Lam",
      "photoUrl": "https://lh3.googleusercontent.com/a-/AOh14GhRHVS18lGCQoaDl3cg5UL_tpu3sK2TZGqSqV3YZw=s64",
      "userId": "13254829462000022719"
     },
     "user_tz": -480
    },
    "id": "OFWbsZHZfmoM"
   },
   "outputs": [],
   "source": [
    "questions = list(sms['clean_text'])[0:29359]\n",
    "response = list(sms['clean_text'])[1:29360]"
   ]
  },
  {
   "cell_type": "code",
   "execution_count": 18,
   "metadata": {
    "executionInfo": {
     "elapsed": 791,
     "status": "ok",
     "timestamp": 1619623649833,
     "user": {
      "displayName": "WaiHong Lam",
      "photoUrl": "https://lh3.googleusercontent.com/a-/AOh14GhRHVS18lGCQoaDl3cg5UL_tpu3sK2TZGqSqV3YZw=s64",
      "userId": "13254829462000022719"
     },
     "user_tz": -480
    },
    "id": "m8MgLqXNTNlB"
   },
   "outputs": [],
   "source": [
    "pairs = list(zip(questions,response))"
   ]
  },
  {
   "cell_type": "markdown",
   "metadata": {
    "id": "gEoYZplVfmoN"
   },
   "source": [
    "## 2. CREATE TRAINING AND VALIDATION SET\n",
    "\n",
    "A disadvantage of using LSTM is the propensity to run out of RAM. As a result, for training purposes, we take in a random set of 3,000 consecutive lines in the pair of dialouge text set.\n",
    "In the subsequent training function, we will indicate that the losses be calculated on 20% of the training set, which will not be trained."
   ]
  },
  {
   "cell_type": "code",
   "execution_count": 19,
   "metadata": {
    "executionInfo": {
     "elapsed": 774,
     "status": "ok",
     "timestamp": 1619623659306,
     "user": {
      "displayName": "WaiHong Lam",
      "photoUrl": "https://lh3.googleusercontent.com/a-/AOh14GhRHVS18lGCQoaDl3cg5UL_tpu3sK2TZGqSqV3YZw=s64",
      "userId": "13254829462000022719"
     },
     "user_tz": -480
    },
    "id": "tN-I6wBzfmoN"
   },
   "outputs": [],
   "source": [
    "total_pairs = len(pairs)\n",
    "training_size = 2500"
   ]
  },
  {
   "cell_type": "code",
   "execution_count": 20,
   "metadata": {
    "executionInfo": {
     "elapsed": 766,
     "status": "ok",
     "timestamp": 1619623664138,
     "user": {
      "displayName": "WaiHong Lam",
      "photoUrl": "https://lh3.googleusercontent.com/a-/AOh14GhRHVS18lGCQoaDl3cg5UL_tpu3sK2TZGqSqV3YZw=s64",
      "userId": "13254829462000022719"
     },
     "user_tz": -480
    },
    "id": "6dVwTqRjfmoO"
   },
   "outputs": [],
   "source": [
    "start = random.randrange(0, total_pairs-training_size) "
   ]
  },
  {
   "cell_type": "code",
   "execution_count": 21,
   "metadata": {
    "executionInfo": {
     "elapsed": 1201,
     "status": "ok",
     "timestamp": 1619623687113,
     "user": {
      "displayName": "WaiHong Lam",
      "photoUrl": "https://lh3.googleusercontent.com/a-/AOh14GhRHVS18lGCQoaDl3cg5UL_tpu3sK2TZGqSqV3YZw=s64",
      "userId": "13254829462000022719"
     },
     "user_tz": -480
    },
    "id": "kqJzF_7BTNlG"
   },
   "outputs": [],
   "source": [
    "input_docs = []\n",
    "target_docs = []\n",
    "input_tokens = set()\n",
    "target_tokens = set()"
   ]
  },
  {
   "cell_type": "code",
   "execution_count": 22,
   "metadata": {
    "executionInfo": {
     "elapsed": 926,
     "status": "ok",
     "timestamp": 1619623688121,
     "user": {
      "displayName": "WaiHong Lam",
      "photoUrl": "https://lh3.googleusercontent.com/a-/AOh14GhRHVS18lGCQoaDl3cg5UL_tpu3sK2TZGqSqV3YZw=s64",
      "userId": "13254829462000022719"
     },
     "user_tz": -480
    },
    "id": "0K1WMr1qTNlH"
   },
   "outputs": [],
   "source": [
    "for line in pairs[start:start+training_size]:\n",
    "    input_doc, target_doc = line[0], line[1]\n",
    "    # Appending each input sentence to input_docs\n",
    "    input_docs.append(input_doc)\n",
    "    # Splitting words from punctuation\n",
    "    target_doc = \" \".join(re.findall(r\"[\\w']+|[^\\s\\w]\", target_doc))\n",
    "    # Redefine target_doc below and append it to target_docs\n",
    "    target_doc = '<START> ' + target_doc + ' <END>'\n",
    "    target_docs.append(target_doc)\n",
    "    # Now we split up each sentence into words and add each unique word to our vocabulary set\n",
    "    for token in re.findall(r\"[\\w']+|[^\\s\\w]\", input_doc):\n",
    "        if token not in input_tokens:\n",
    "            input_tokens.add(token)\n",
    "    for token in target_doc.split():\n",
    "        if token not in target_tokens:\n",
    "            target_tokens.add(token)"
   ]
  },
  {
   "cell_type": "code",
   "execution_count": 23,
   "metadata": {
    "executionInfo": {
     "elapsed": 744,
     "status": "ok",
     "timestamp": 1619623691371,
     "user": {
      "displayName": "WaiHong Lam",
      "photoUrl": "https://lh3.googleusercontent.com/a-/AOh14GhRHVS18lGCQoaDl3cg5UL_tpu3sK2TZGqSqV3YZw=s64",
      "userId": "13254829462000022719"
     },
     "user_tz": -480
    },
    "id": "1RsNDfAyTNlI"
   },
   "outputs": [],
   "source": [
    "input_tokens = sorted(list(input_tokens))\n",
    "target_tokens = sorted(list(target_tokens))\n",
    "num_encoder_tokens = len(input_tokens)\n",
    "num_decoder_tokens = len(target_tokens)"
   ]
  },
  {
   "cell_type": "code",
   "execution_count": 24,
   "metadata": {
    "executionInfo": {
     "elapsed": 759,
     "status": "ok",
     "timestamp": 1619623724910,
     "user": {
      "displayName": "WaiHong Lam",
      "photoUrl": "https://lh3.googleusercontent.com/a-/AOh14GhRHVS18lGCQoaDl3cg5UL_tpu3sK2TZGqSqV3YZw=s64",
      "userId": "13254829462000022719"
     },
     "user_tz": -480
    },
    "id": "rFv6ScCoTNlJ"
   },
   "outputs": [],
   "source": [
    "input_features_dict = dict([(token, i) for i, token in enumerate(input_tokens)])\n",
    "target_features_dict = dict([(token, i) for i, token in enumerate(target_tokens)])"
   ]
  },
  {
   "cell_type": "code",
   "execution_count": 25,
   "metadata": {
    "executionInfo": {
     "elapsed": 555,
     "status": "ok",
     "timestamp": 1619623725892,
     "user": {
      "displayName": "WaiHong Lam",
      "photoUrl": "https://lh3.googleusercontent.com/a-/AOh14GhRHVS18lGCQoaDl3cg5UL_tpu3sK2TZGqSqV3YZw=s64",
      "userId": "13254829462000022719"
     },
     "user_tz": -480
    },
    "id": "9i3bImGGTNlJ"
   },
   "outputs": [],
   "source": [
    "reverse_input_features_dict = dict((i, token) for token, i in input_features_dict.items())\n",
    "reverse_target_features_dict = dict((i, token) for token, i in target_features_dict.items())"
   ]
  },
  {
   "cell_type": "markdown",
   "metadata": {
    "id": "a3RYthAAfmoQ"
   },
   "source": [
    "# 3. TRAINING SET UP"
   ]
  },
  {
   "cell_type": "markdown",
   "metadata": {
    "id": "ij205lsEfmoR"
   },
   "source": [
    "To train our seq2seq model we will use three matrices of one-hot vectors, Encoder input data, Decoder input data, and Decoder output data."
   ]
  },
  {
   "cell_type": "code",
   "execution_count": 26,
   "metadata": {
    "executionInfo": {
     "elapsed": 935,
     "status": "ok",
     "timestamp": 1619623743887,
     "user": {
      "displayName": "WaiHong Lam",
      "photoUrl": "https://lh3.googleusercontent.com/a-/AOh14GhRHVS18lGCQoaDl3cg5UL_tpu3sK2TZGqSqV3YZw=s64",
      "userId": "13254829462000022719"
     },
     "user_tz": -480
    },
    "id": "stTx891eTNlK"
   },
   "outputs": [],
   "source": [
    "#Maximum length of sentences in input and target documents\n",
    "max_encoder_seq_length = max([len(re.findall(r\"[\\w']+|[^\\s\\w]\",input_doc)) for input_doc in input_docs])\n",
    "max_decoder_seq_length = max([len(re.findall(r\"[\\w']+|[^\\s\\w]\",target_doc)) for target_doc in target_docs])"
   ]
  },
  {
   "cell_type": "code",
   "execution_count": 27,
   "metadata": {
    "executionInfo": {
     "elapsed": 4043,
     "status": "ok",
     "timestamp": 1619623762099,
     "user": {
      "displayName": "WaiHong Lam",
      "photoUrl": "https://lh3.googleusercontent.com/a-/AOh14GhRHVS18lGCQoaDl3cg5UL_tpu3sK2TZGqSqV3YZw=s64",
      "userId": "13254829462000022719"
     },
     "user_tz": -480
    },
    "id": "0e9Bz0LsTNlL"
   },
   "outputs": [],
   "source": [
    "encoder_input_data = np.zeros((len(input_docs), \n",
    "                               max_encoder_seq_length,num_encoder_tokens),\n",
    "                              dtype='float32')\n",
    "decoder_input_data = np.zeros((len(input_docs), \n",
    "                               max_decoder_seq_length,num_decoder_tokens),\n",
    "                              dtype='float32')\n",
    "decoder_target_data = np.zeros((len(input_docs), \n",
    "                                max_decoder_seq_length,num_decoder_tokens),\n",
    "                               dtype='float32')"
   ]
  },
  {
   "cell_type": "code",
   "execution_count": 28,
   "metadata": {
    "executionInfo": {
     "elapsed": 1335,
     "status": "ok",
     "timestamp": 1619623762100,
     "user": {
      "displayName": "WaiHong Lam",
      "photoUrl": "https://lh3.googleusercontent.com/a-/AOh14GhRHVS18lGCQoaDl3cg5UL_tpu3sK2TZGqSqV3YZw=s64",
      "userId": "13254829462000022719"
     },
     "user_tz": -480
    },
    "id": "1oMGL_7YTNlM"
   },
   "outputs": [],
   "source": [
    "for line, (input_doc, target_doc) in enumerate(zip(input_docs,target_docs)):\n",
    "    for timestep, token in enumerate(re.findall(r\"[\\w']+|[^\\s\\w]\",input_doc)):\n",
    "        #Assign 1. for the current line, timestep, & word in encoder_input_data\n",
    "        encoder_input_data[line, timestep,input_features_dict[token]] = 1.\n",
    "    for timestep, token in enumerate(target_doc.split()):\n",
    "        decoder_input_data[line, timestep,target_features_dict[token]] = 1.\n",
    "        if timestep > 0:\n",
    "            decoder_target_data[line, timestep - 1,target_features_dict[token]] = 1."
   ]
  },
  {
   "cell_type": "markdown",
   "metadata": {
    "id": "HFZkuZLAfmoT"
   },
   "source": [
    "Our encoder model requires an input layer which defines a matrix for holding the one-hot vectors and an LSTM layer with some number of hidden states. Decoder model structure is almost the same as encoder’s but here we pass in the state data along with the decoder inputs."
   ]
  },
  {
   "cell_type": "code",
   "execution_count": 29,
   "metadata": {
    "executionInfo": {
     "elapsed": 962,
     "status": "ok",
     "timestamp": 1619623782678,
     "user": {
      "displayName": "WaiHong Lam",
      "photoUrl": "https://lh3.googleusercontent.com/a-/AOh14GhRHVS18lGCQoaDl3cg5UL_tpu3sK2TZGqSqV3YZw=s64",
      "userId": "13254829462000022719"
     },
     "user_tz": -480
    },
    "id": "fVlmY8hgTNlO"
   },
   "outputs": [],
   "source": [
    "#Dimensionality\n",
    "dimensionality = 256"
   ]
  },
  {
   "cell_type": "code",
   "execution_count": 30,
   "metadata": {
    "executionInfo": {
     "elapsed": 1151,
     "status": "ok",
     "timestamp": 1619623784570,
     "user": {
      "displayName": "WaiHong Lam",
      "photoUrl": "https://lh3.googleusercontent.com/a-/AOh14GhRHVS18lGCQoaDl3cg5UL_tpu3sK2TZGqSqV3YZw=s64",
      "userId": "13254829462000022719"
     },
     "user_tz": -480
    },
    "id": "Rhpz9ef5TNlO"
   },
   "outputs": [],
   "source": [
    "#The batch size and number of epochs\n",
    "batch_size = 1\n",
    "epochs = 5"
   ]
  },
  {
   "cell_type": "code",
   "execution_count": 31,
   "metadata": {
    "executionInfo": {
     "elapsed": 6486,
     "status": "ok",
     "timestamp": 1619623797147,
     "user": {
      "displayName": "WaiHong Lam",
      "photoUrl": "https://lh3.googleusercontent.com/a-/AOh14GhRHVS18lGCQoaDl3cg5UL_tpu3sK2TZGqSqV3YZw=s64",
      "userId": "13254829462000022719"
     },
     "user_tz": -480
    },
    "id": "PBbKjKzNTNlO"
   },
   "outputs": [],
   "source": [
    "#Encoder\n",
    "encoder_inputs = Input(shape=(None, num_encoder_tokens))\n",
    "encoder_lstm = LSTM(dimensionality, return_state=True)\n",
    "encoder_outputs, state_hidden, state_cell = encoder_lstm(encoder_inputs)\n",
    "encoder_states = [state_hidden, state_cell]"
   ]
  },
  {
   "cell_type": "code",
   "execution_count": 32,
   "metadata": {
    "executionInfo": {
     "elapsed": 4831,
     "status": "ok",
     "timestamp": 1619623797149,
     "user": {
      "displayName": "WaiHong Lam",
      "photoUrl": "https://lh3.googleusercontent.com/a-/AOh14GhRHVS18lGCQoaDl3cg5UL_tpu3sK2TZGqSqV3YZw=s64",
      "userId": "13254829462000022719"
     },
     "user_tz": -480
    },
    "id": "CYElJPl9TNlO"
   },
   "outputs": [],
   "source": [
    "#Decoder\n",
    "decoder_inputs = Input(shape=(None, num_decoder_tokens))\n",
    "decoder_lstm = LSTM(dimensionality, return_sequences=True,return_state=True)\n",
    "decoder_outputs, decoder_state_hidden, decoder_state_cell = decoder_lstm(decoder_inputs, initial_state=encoder_states)\n",
    "decoder_dense = Dense(num_decoder_tokens, activation='softmax')\n",
    "decoder_outputs = decoder_dense(decoder_outputs)"
   ]
  },
  {
   "cell_type": "markdown",
   "metadata": {
    "id": "pCdJ84NFTNlO"
   },
   "source": [
    "# 4. TRAINING AND EVALUATION"
   ]
  },
  {
   "cell_type": "markdown",
   "metadata": {
    "id": "rUqduOWUfmoV"
   },
   "source": [
    "We will create our seq2seq model and train it with encoder and decoder data"
   ]
  },
  {
   "cell_type": "code",
   "execution_count": 33,
   "metadata": {
    "executionInfo": {
     "elapsed": 739,
     "status": "ok",
     "timestamp": 1619623801055,
     "user": {
      "displayName": "WaiHong Lam",
      "photoUrl": "https://lh3.googleusercontent.com/a-/AOh14GhRHVS18lGCQoaDl3cg5UL_tpu3sK2TZGqSqV3YZw=s64",
      "userId": "13254829462000022719"
     },
     "user_tz": -480
    },
    "id": "g2ga1BKPTNlQ"
   },
   "outputs": [],
   "source": [
    "#Model\n",
    "training_model = Model([encoder_inputs, decoder_inputs],decoder_outputs)"
   ]
  },
  {
   "cell_type": "markdown",
   "metadata": {
    "id": "rB0AUa-ifmoX"
   },
   "source": [
    "The optimizar Adamax has a default learning rate of 0.001, which we will employ. Adamax is sometimes superior to Adam, specially in models with embeddings."
   ]
  },
  {
   "cell_type": "code",
   "execution_count": 34,
   "metadata": {
    "executionInfo": {
     "elapsed": 760,
     "status": "ok",
     "timestamp": 1619623814469,
     "user": {
      "displayName": "WaiHong Lam",
      "photoUrl": "https://lh3.googleusercontent.com/a-/AOh14GhRHVS18lGCQoaDl3cg5UL_tpu3sK2TZGqSqV3YZw=s64",
      "userId": "13254829462000022719"
     },
     "user_tz": -480
    },
    "id": "sjQqlZ8QfmoX"
   },
   "outputs": [],
   "source": [
    "#Compiling\n",
    "training_model.compile(optimizer='adamax',\n",
    "                       loss='categorical_crossentropy', \n",
    "                       metrics=['accuracy'],sample_weight_mode='temporal')"
   ]
  },
  {
   "cell_type": "code",
   "execution_count": 35,
   "metadata": {
    "colab": {
     "base_uri": "https://localhost:8080/"
    },
    "executionInfo": {
     "elapsed": 209107,
     "status": "ok",
     "timestamp": 1619624037145,
     "user": {
      "displayName": "WaiHong Lam",
      "photoUrl": "https://lh3.googleusercontent.com/a-/AOh14GhRHVS18lGCQoaDl3cg5UL_tpu3sK2TZGqSqV3YZw=s64",
      "userId": "13254829462000022719"
     },
     "user_tz": -480
    },
    "id": "4LNnhoMdTNlR",
    "outputId": "d34fb400-ece7-4b87-a7f9-1964e53bbe6a"
   },
   "outputs": [
    {
     "name": "stdout",
     "output_type": "stream",
     "text": [
      "Epoch 1/5\n",
      "2000/2000 [==============================] - 68s 18ms/step - loss: 1.0865 - accuracy: 0.0170 - val_loss: 1.0260 - val_accuracy: 0.0166\n",
      "Epoch 2/5\n",
      "2000/2000 [==============================] - 35s 17ms/step - loss: 0.9850 - accuracy: 0.0180 - val_loss: 1.0555 - val_accuracy: 0.0181\n",
      "Epoch 3/5\n",
      "2000/2000 [==============================] - 34s 17ms/step - loss: 0.9816 - accuracy: 0.0188 - val_loss: 1.0684 - val_accuracy: 0.0181\n",
      "Epoch 4/5\n",
      "2000/2000 [==============================] - 34s 17ms/step - loss: 0.9919 - accuracy: 0.0183 - val_loss: 1.0799 - val_accuracy: 0.0174\n",
      "Epoch 5/5\n",
      "2000/2000 [==============================] - 34s 17ms/step - loss: 0.9995 - accuracy: 0.0188 - val_loss: 1.0305 - val_accuracy: 0.0181\n"
     ]
    }
   ],
   "source": [
    "#Training\n",
    "hist = training_model.fit([encoder_input_data,decoder_input_data],decoder_target_data,\n",
    "                          batch_size = batch_size,epochs = epochs,validation_split = 0.2)\n",
    "training_model.save('training_model.h5')"
   ]
  },
  {
   "cell_type": "code",
   "execution_count": 39,
   "metadata": {
    "executionInfo": {
     "elapsed": 755,
     "status": "ok",
     "timestamp": 1619624362523,
     "user": {
      "displayName": "WaiHong Lam",
      "photoUrl": "https://lh3.googleusercontent.com/a-/AOh14GhRHVS18lGCQoaDl3cg5UL_tpu3sK2TZGqSqV3YZw=s64",
      "userId": "13254829462000022719"
     },
     "user_tz": -480
    },
    "id": "aT4pX3LFfmoZ"
   },
   "outputs": [],
   "source": [
    "with open('training_details.json', 'w') as f:\n",
    "    json.dump(hist.history, f)"
   ]
  },
  {
   "cell_type": "markdown",
   "metadata": {
    "id": "rXJzglHofmoZ"
   },
   "source": [
    "As a fraction of the training data is used as validation data, the model will set apart this fraction of the training data and will not train on it. It will evaluate the loss and any model metrics on this data at the end of each epoch. Hence, the perplexity score can be calculated off the last epoch."
   ]
  },
  {
   "cell_type": "code",
   "execution_count": 40,
   "metadata": {
    "executionInfo": {
     "elapsed": 725,
     "status": "ok",
     "timestamp": 1619624366567,
     "user": {
      "displayName": "WaiHong Lam",
      "photoUrl": "https://lh3.googleusercontent.com/a-/AOh14GhRHVS18lGCQoaDl3cg5UL_tpu3sK2TZGqSqV3YZw=s64",
      "userId": "13254829462000022719"
     },
     "user_tz": -480
    },
    "id": "YjOlMph6fnV1"
   },
   "outputs": [],
   "source": [
    "with open(\"./training_details.json\") as f:\n",
    "    data = json.load(f)"
   ]
  },
  {
   "cell_type": "code",
   "execution_count": 41,
   "metadata": {
    "executionInfo": {
     "elapsed": 837,
     "status": "ok",
     "timestamp": 1619624368821,
     "user": {
      "displayName": "WaiHong Lam",
      "photoUrl": "https://lh3.googleusercontent.com/a-/AOh14GhRHVS18lGCQoaDl3cg5UL_tpu3sK2TZGqSqV3YZw=s64",
      "userId": "13254829462000022719"
     },
     "user_tz": -480
    },
    "id": "4RPLxzqKIakU"
   },
   "outputs": [],
   "source": [
    "import math"
   ]
  },
  {
   "cell_type": "code",
   "execution_count": 42,
   "metadata": {
    "colab": {
     "base_uri": "https://localhost:8080/"
    },
    "executionInfo": {
     "elapsed": 1063,
     "status": "ok",
     "timestamp": 1619624389667,
     "user": {
      "displayName": "WaiHong Lam",
      "photoUrl": "https://lh3.googleusercontent.com/a-/AOh14GhRHVS18lGCQoaDl3cg5UL_tpu3sK2TZGqSqV3YZw=s64",
      "userId": "13254829462000022719"
     },
     "user_tz": -480
    },
    "id": "M1T_X7owfmoa",
    "outputId": "09df272d-14df-4fe2-9890-37dacb7e26e1"
   },
   "outputs": [
    {
     "name": "stdout",
     "output_type": "stream",
     "text": [
      "The perplexity is 2.752\n"
     ]
    }
   ],
   "source": [
    "p_score = math.exp(np.mean(data['loss']))\n",
    "print(f'The perplexity is {p_score:.3f}')"
   ]
  }
 ],
 "metadata": {
  "accelerator": "GPU",
  "colab": {
   "collapsed_sections": [],
   "name": "Generative_chatbots_attempt_(Singlish_Corpus).ipynb",
   "provenance": []
  },
  "kernelspec": {
   "display_name": "Python 3",
   "language": "python",
   "name": "python3"
  },
  "language_info": {
   "codemirror_mode": {
    "name": "ipython",
    "version": 3
   },
   "file_extension": ".py",
   "mimetype": "text/x-python",
   "name": "python",
   "nbconvert_exporter": "python",
   "pygments_lexer": "ipython3",
   "version": "3.8.8"
  }
 },
 "nbformat": 4,
 "nbformat_minor": 1
}
